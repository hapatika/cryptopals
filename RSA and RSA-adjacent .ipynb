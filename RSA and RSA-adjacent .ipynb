{
 "cells": [
  {
   "cell_type": "code",
   "execution_count": 2,
   "id": "75661d03",
   "metadata": {},
   "outputs": [],
   "source": [
    "import random \n",
    "from math import sqrt \n",
    "\n",
    "def gcd(a, b):\n",
    "    if b==0: \n",
    "        return a \n",
    "    else:\n",
    "        return gcd(a, a%b)\n",
    "\n",
    "def mod_inverse(a, n):\n",
    "    # quickest algorithm to find the inverse of a mod\n",
    "    r1 = a\n",
    "    r2 = n\n",
    "    b1 = 0 \n",
    "    b2 = 1\n",
    "    while r2:\n",
    "        b1,b2 = b2, b2 - r//r2 * b2\n",
    "        r1,r2 = r2, r2 - r//r2 * r2\n",
    "    if r1>0:\n",
    "        return\n",
    "    if b1<0: \n",
    "        return b1+n\n",
    "\n",
    "def encrypt(m): \n",
    "    pass"
   ]
  },
  {
   "cell_type": "markdown",
   "id": "cc1ab6e0",
   "metadata": {},
   "source": [
    "ab = 1 (mod n)\n",
    "ns + 1 = ab ; ab - ns = 1 \n",
    "\n",
    "7x = 1 mod 8\n",
    "why is this true for every exponent of two \n",
    "\n",
    "4x = 1 mod 13\n",
    "x = 10 \n",
    "1 = ab - 13n\n",
    "1 = \n"
   ]
  }
 ],
 "metadata": {
  "kernelspec": {
   "display_name": "Python 3 (ipykernel)",
   "language": "python",
   "name": "python3"
  },
  "language_info": {
   "codemirror_mode": {
    "name": "ipython",
    "version": 3
   },
   "file_extension": ".py",
   "mimetype": "text/x-python",
   "name": "python",
   "nbconvert_exporter": "python",
   "pygments_lexer": "ipython3",
   "version": "3.8.11"
  }
 },
 "nbformat": 4,
 "nbformat_minor": 5
}
