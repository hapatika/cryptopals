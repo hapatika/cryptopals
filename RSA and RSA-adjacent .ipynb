{
 "cells": [
  {
   "cell_type": "markdown",
   "id": "f445a7c4",
   "metadata": {},
   "source": [
    "RSA: e(RSA) := (m, p, q, e, E)\n",
    "     d(RSA) := (E(m), N = pq, e) \n",
    "     (N, e) is the public key then?\n",
    "\n",
    "Use Euler totient, not the others for now. M = \\phi(p, q) = (p-1)(q-1) because p,q coprime (what was your intuition for totient?).\n",
    "e is chosen (how to make the best choice?) ; e is invertible mod M and < M. \n",
    "E(m) = m^e (mod N)\n",
    "D(E(m)) = m;\n",
    "m^ed = m (mod N); \n",
    "\n",
    "Prove that D is E^-1, i.e. prove that d is the inverse of e mod :\n",
    "m^(ed-1) = 1 mod N\n",
    "(ed, N) coprime;\n",
    "\n",
    "Fermat Little : a^(p-1) = 1 (mod p) ; a,p are coprime \n",
    "and a"
   ]
  },
  {
   "cell_type": "code",
   "execution_count": 2,
   "id": "75661d03",
   "metadata": {},
   "outputs": [],
   "source": [
    "import random \n",
    "from math import sqrt \n",
    "\n",
    "def gcd(a, b):\n",
    "    if b==0: \n",
    "        return a \n",
    "    else:\n",
    "        return gcd(a, a%b)\n",
    "\n",
    "def mod_inverse(a, n):\n",
    "    # quickest algorithm to find the inverse of a mod\n",
    "    r1 = a\n",
    "    r2 = n\n",
    "    b1 = 0 \n",
    "    b2 = 1\n",
    "    while r2:\n",
    "        b1,b2 = b2, b2 - r//r2 * b2\n",
    "        r1,r2 = r2, r2 - r//r2 * r2\n",
    "    if r1>0:\n",
    "        return\n",
    "    if b1<0: \n",
    "        return b1+n\n",
    "\n",
    "def primeGen():\n",
    "    pass\n",
    "\n",
    "def encrypt(m, p, q): \n",
    "    "
   ]
  },
  {
   "cell_type": "markdown",
   "id": "cc1ab6e0",
   "metadata": {},
   "source": [
    "ab = 1 (mod n)\n",
    "ns + 1 = ab ; ab - ns = 1 \n",
    "\n",
    "7x = 1 mod 8\n",
    "[a] = [a]^-1 (mod 2^k) where 2^k < a^2\n",
    "\n",
    "4x = 1 mod 13\n",
    "x = 10 \n",
    "1 = ab - 13n\n",
    "\n",
    "Glossary: \n",
    "Wilsons: If p is prime, then p divides (p-1)!+1\n",
    "Euler: If m is a positive integer and a is coprime to m, a^(phi(m)) = 1 (mod m)"
   ]
  }
 ],
 "metadata": {
  "kernelspec": {
   "display_name": "Python 3 (ipykernel)",
   "language": "python",
   "name": "python3"
  },
  "language_info": {
   "codemirror_mode": {
    "name": "ipython",
    "version": 3
   },
   "file_extension": ".py",
   "mimetype": "text/x-python",
   "name": "python",
   "nbconvert_exporter": "python",
   "pygments_lexer": "ipython3",
   "version": "3.8.11"
  }
 },
 "nbformat": 4,
 "nbformat_minor": 5
}
